{
  "cells": [
    {
      "cell_type": "markdown",
      "metadata": {
        "id": "view-in-github",
        "colab_type": "text"
      },
      "source": [
        "<a href=\"https://colab.research.google.com/github/afrozmaria07/anomalyDetection-DBSCAN-PID-GAM-PCA/blob/main/test_4.ipynb\" target=\"_parent\"><img src=\"https://colab.research.google.com/assets/colab-badge.svg\" alt=\"Open In Colab\"/></a>"
      ]
    },
    {
      "cell_type": "markdown",
      "metadata": {
        "id": "U6RxktghXppl"
      },
      "source": [
        "<!-- Anomaly detection using an Supervised Autoencoder -->"
      ]
    },
    {
      "cell_type": "code",
      "execution_count": null,
      "metadata": {
        "id": "PIp7Edq5Xppn"
      },
      "outputs": [],
      "source": [
        "# Import necessary libraries\n",
        "import os\n",
        "import numpy as np\n",
        "import pandas as pd\n",
        "import seaborn as sns\n",
        "import matplotlib.pyplot as plt\n",
        "from sklearn.model_selection import train_test_split\n",
        "from sklearn.preprocessing import StandardScaler, LabelEncoder\n",
        "from sklearn.metrics import confusion_matrix, accuracy_score, f1_score\n",
        "import tensorflow as tf\n",
        "from tensorflow.keras import layers, models\n",
        "from scipy.io import loadmat\n",
        "import arff\n",
        "\n",
        "# Load datasets\n",
        "folder_path = 'data'\n",
        "dataset_files = ['thyroid.mat', 'mammography.mat', 'mammography_noisy50.mat','musk.mat','satimage-2.mat', 'siesmic.mat']\n"
      ]
    },
    {
      "cell_type": "code",
      "execution_count": null,
      "metadata": {
        "id": "PQX74XoUXppo"
      },
      "outputs": [],
      "source": [
        "def load_data(file_path, file_type):\n",
        "    if file_type == \".mat\":\n",
        "        mat_data = loadmat(file_path)\n",
        "        if 'X' in mat_data and 'y' in mat_data:\n",
        "            X = pd.DataFrame(mat_data['X'])\n",
        "            y = pd.Series(mat_data['y'].flatten())  # Convert labels to 1D\n",
        "            return X, y\n",
        "        else:\n",
        "            print(f\"Unexpected structure in {file_path}: {mat_data.keys()}\")\n",
        "            return pd.DataFrame(), pd.Series()\n",
        "    elif file_type == \".arff\":\n",
        "        with open(file_path) as f:\n",
        "            arff_data = arff.load(f)\n",
        "        data = np.array(arff_data['data'])\n",
        "        X = pd.DataFrame(data[:, :-1])\n",
        "        y = pd.Series(data[:, -1])\n",
        "        return X, y\n",
        "    else:\n",
        "        print(f\"Unsupported file type: {file_type}\")\n",
        "        return pd.DataFrame(), pd.Series()"
      ]
    },
    {
      "cell_type": "code",
      "execution_count": null,
      "metadata": {
        "id": "avsR8fuPXppo"
      },
      "outputs": [],
      "source": [
        "\n",
        "# Load and preprocess all datasets\n",
        "def load_and_preprocess_all_data(folder_path, dataset_files):\n",
        "    combined_X = pd.DataFrame()\n",
        "    combined_y = pd.Series(dtype=np.float64)\n",
        "\n",
        "    for file in dataset_files:\n",
        "        file_path = os.path.join(folder_path, file)\n",
        "        file_extension = os.path.splitext(file)[-1]\n",
        "\n",
        "        X, y = load_data(file_path, file_extension)\n",
        "        if not X.empty and not y.empty:\n",
        "            combined_X = pd.concat([combined_X, X], ignore_index=True)\n",
        "            combined_y = pd.concat([combined_y, y], ignore_index=True)\n",
        "        else:\n",
        "            print(f\"Skipped file {file} due to empty data.\")\n",
        "\n",
        "    return combined_X, combined_y"
      ]
    },
    {
      "cell_type": "code",
      "execution_count": null,
      "metadata": {
        "id": "qvEiCgr2Xppo",
        "outputId": "de4cb504-958f-40ad-873a-e6c9156cc831"
      },
      "outputs": [
        {
          "name": "stdout",
          "output_type": "stream",
          "text": [
            "Shape of combined_X: (41015, 166)\n",
            "Shape of combined_y: (41015,)\n"
          ]
        },
        {
          "name": "stderr",
          "output_type": "stream",
          "text": [
            "/tmp/ipykernel_37745/2947041725.py:13: FutureWarning: The behavior of array concatenation with empty entries is deprecated. In a future version, this will no longer exclude empty items when determining the result dtype. To retain the old behavior, exclude the empty entries before the concat operation.\n",
            "  combined_y = pd.concat([combined_y, y], ignore_index=True)\n"
          ]
        }
      ],
      "source": [
        "# Load the data\n",
        "combined_X, combined_y = load_and_preprocess_all_data(folder_path, dataset_files)\n",
        "\n",
        "# Check the shapes of combined_X and combined_y\n",
        "print(f\"Shape of combined_X: {combined_X.shape}\")\n",
        "print(f\"Shape of combined_y: {combined_y.shape}\")\n"
      ]
    },
    {
      "cell_type": "code",
      "execution_count": null,
      "metadata": {
        "id": "VFZaw5gVXppp"
      },
      "outputs": [],
      "source": [
        "# Preprocessing the data\n",
        "# Label encoding the target variable (if categorical)\n",
        "le = LabelEncoder()\n",
        "y_encoded = le.fit_transform(combined_y)"
      ]
    },
    {
      "cell_type": "code",
      "execution_count": null,
      "metadata": {
        "id": "zJDsU7lsXppp"
      },
      "outputs": [],
      "source": [
        "\n",
        "# Split the data into training and testing sets\n",
        "X_train, X_test, y_train, y_test = train_test_split(combined_X, y_encoded, test_size=0.3, random_state=42)\n",
        "\n",
        "# Standardizing the data\n",
        "scaler = StandardScaler()\n",
        "X_train_scaled = scaler.fit_transform(X_train)\n",
        "X_test_scaled = scaler.transform(X_test)"
      ]
    },
    {
      "cell_type": "code",
      "execution_count": null,
      "metadata": {
        "id": "j8lc1DCvXppq"
      },
      "outputs": [],
      "source": [
        "# Build the Supervised Autoencoder model\n",
        "input_dim = X_train_scaled.shape[1]  # Number of features\n",
        "latent_dim = 16  # Dimension of the latent space\n",
        "\n",
        "# Encoder\n",
        "inputs = layers.Input(shape=(input_dim,))\n",
        "encoded = layers.Dense(64, activation='relu')(inputs)\n",
        "encoded = layers.Dense(latent_dim, activation='relu')(encoded)\n",
        "\n",
        "# Decoder\n",
        "decoded = layers.Dense(64, activation='relu')(encoded)\n",
        "decoded = layers.Dense(input_dim, activation='sigmoid')(decoded)  # Output layer matches input_dim\n",
        "\n",
        "# Classification head\n",
        "classifier_output = layers.Dense(1, activation='sigmoid')(encoded)  # For binary classification\n",
        "\n",
        "# Autoencoder model (combining encoder and decoder)\n",
        "autoencoder = models.Model(inputs=inputs, outputs=[decoded, classifier_output])\n"
      ]
    },
    {
      "cell_type": "code",
      "execution_count": null,
      "metadata": {
        "id": "YI4ML1fxXppq"
      },
      "outputs": [],
      "source": [
        "# Compile the model\n",
        "autoencoder.compile(optimizer='adam',\n",
        "                    loss=['mse', 'binary_crossentropy'],\n",
        "                    loss_weights=[0.5, 0.5],\n",
        "                    metrics=['accuracy'])\n"
      ]
    },
    {
      "cell_type": "code",
      "execution_count": null,
      "metadata": {
        "id": "eEH3Id4LXppq",
        "outputId": "32fe25d6-6b2f-45f5-9026-4c4fc209d1ad"
      },
      "outputs": [
        {
          "name": "stdout",
          "output_type": "stream",
          "text": [
            "Epoch 1/50\n",
            "\u001b[1m898/898\u001b[0m \u001b[32m━━━━━━━━━━━━━━━━━━━━\u001b[0m\u001b[37m\u001b[0m \u001b[1m2s\u001b[0m 1ms/step - dense_10_accuracy: 0.9635 - dense_10_loss: 0.3016 - dense_9_loss: nan - dense_9_mae: nan - loss: nan - val_dense_10_accuracy: 0.9665 - val_dense_10_loss: 0.1989 - val_dense_9_loss: nan - val_dense_9_mae: nan - val_loss: nan\n",
            "Epoch 2/50\n",
            "\u001b[1m898/898\u001b[0m \u001b[32m━━━━━━━━━━━━━━━━━━━━\u001b[0m\u001b[37m\u001b[0m \u001b[1m1s\u001b[0m 1ms/step - dense_10_accuracy: 0.9667 - dense_10_loss: 0.1785 - dense_9_loss: nan - dense_9_mae: nan - loss: nan - val_dense_10_accuracy: 0.9665 - val_dense_10_loss: 0.1318 - val_dense_9_loss: nan - val_dense_9_mae: nan - val_loss: nan\n",
            "Epoch 3/50\n",
            "\u001b[1m898/898\u001b[0m \u001b[32m━━━━━━━━━━━━━━━━━━━━\u001b[0m\u001b[37m\u001b[0m \u001b[1m1s\u001b[0m 1ms/step - dense_10_accuracy: 0.9654 - dense_10_loss: 0.1233 - dense_9_loss: nan - dense_9_mae: nan - loss: nan - val_dense_10_accuracy: 0.9665 - val_dense_10_loss: 0.1003 - val_dense_9_loss: nan - val_dense_9_mae: nan - val_loss: nan\n",
            "Epoch 4/50\n",
            "\u001b[1m898/898\u001b[0m \u001b[32m━━━━━━━━━━━━━━━━━━━━\u001b[0m\u001b[37m\u001b[0m \u001b[1m1s\u001b[0m 988us/step - dense_10_accuracy: 0.9663 - dense_10_loss: 0.0960 - dense_9_loss: nan - dense_9_mae: nan - loss: nan - val_dense_10_accuracy: 0.9665 - val_dense_10_loss: 0.0852 - val_dense_9_loss: nan - val_dense_9_mae: nan - val_loss: nan\n",
            "Epoch 5/50\n",
            "\u001b[1m898/898\u001b[0m \u001b[32m━━━━━━━━━━━━━━━━━━━━\u001b[0m\u001b[37m\u001b[0m \u001b[1m1s\u001b[0m 932us/step - dense_10_accuracy: 0.9660 - dense_10_loss: 0.0838 - dense_9_loss: nan - dense_9_mae: nan - loss: nan - val_dense_10_accuracy: 0.9665 - val_dense_10_loss: 0.0781 - val_dense_9_loss: nan - val_dense_9_mae: nan - val_loss: nan\n",
            "Epoch 6/50\n",
            "\u001b[1m898/898\u001b[0m \u001b[32m━━━━━━━━━━━━━━━━━━━━\u001b[0m\u001b[37m\u001b[0m \u001b[1m1s\u001b[0m 883us/step - dense_10_accuracy: 0.9655 - dense_10_loss: 0.0785 - dense_9_loss: nan - dense_9_mae: nan - loss: nan - val_dense_10_accuracy: 0.9665 - val_dense_10_loss: 0.0749 - val_dense_9_loss: nan - val_dense_9_mae: nan - val_loss: nan\n",
            "Epoch 7/50\n",
            "\u001b[1m898/898\u001b[0m \u001b[32m━━━━━━━━━━━━━━━━━━━━\u001b[0m\u001b[37m\u001b[0m \u001b[1m1s\u001b[0m 985us/step - dense_10_accuracy: 0.9659 - dense_10_loss: 0.0756 - dense_9_loss: nan - dense_9_mae: nan - loss: nan - val_dense_10_accuracy: 0.9665 - val_dense_10_loss: 0.0738 - val_dense_9_loss: nan - val_dense_9_mae: nan - val_loss: nan\n",
            "Epoch 8/50\n",
            "\u001b[1m898/898\u001b[0m \u001b[32m━━━━━━━━━━━━━━━━━━━━\u001b[0m\u001b[37m\u001b[0m \u001b[1m1s\u001b[0m 917us/step - dense_10_accuracy: 0.9639 - dense_10_loss: 0.0778 - dense_9_loss: nan - dense_9_mae: nan - loss: nan - val_dense_10_accuracy: 0.9665 - val_dense_10_loss: 0.0734 - val_dense_9_loss: nan - val_dense_9_mae: nan - val_loss: nan\n",
            "Epoch 9/50\n",
            "\u001b[1m898/898\u001b[0m \u001b[32m━━━━━━━━━━━━━━━━━━━━\u001b[0m\u001b[37m\u001b[0m \u001b[1m1s\u001b[0m 996us/step - dense_10_accuracy: 0.9663 - dense_10_loss: 0.0738 - dense_9_loss: nan - dense_9_mae: nan - loss: nan - val_dense_10_accuracy: 0.9665 - val_dense_10_loss: 0.0733 - val_dense_9_loss: nan - val_dense_9_mae: nan - val_loss: nan\n",
            "Epoch 10/50\n",
            "\u001b[1m898/898\u001b[0m \u001b[32m━━━━━━━━━━━━━━━━━━━━\u001b[0m\u001b[37m\u001b[0m \u001b[1m1s\u001b[0m 1ms/step - dense_10_accuracy: 0.9666 - dense_10_loss: 0.0733 - dense_9_loss: nan - dense_9_mae: nan - loss: nan - val_dense_10_accuracy: 0.9665 - val_dense_10_loss: 0.0733 - val_dense_9_loss: nan - val_dense_9_mae: nan - val_loss: nan\n",
            "Epoch 11/50\n",
            "\u001b[1m898/898\u001b[0m \u001b[32m━━━━━━━━━━━━━━━━━━━━\u001b[0m\u001b[37m\u001b[0m \u001b[1m1s\u001b[0m 951us/step - dense_10_accuracy: 0.9648 - dense_10_loss: 0.0763 - dense_9_loss: nan - dense_9_mae: nan - loss: nan - val_dense_10_accuracy: 0.9665 - val_dense_10_loss: 0.0733 - val_dense_9_loss: nan - val_dense_9_mae: nan - val_loss: nan\n",
            "Epoch 12/50\n",
            "\u001b[1m898/898\u001b[0m \u001b[32m━━━━━━━━━━━━━━━━━━━━\u001b[0m\u001b[37m\u001b[0m \u001b[1m1s\u001b[0m 830us/step - dense_10_accuracy: 0.9644 - dense_10_loss: 0.0768 - dense_9_loss: nan - dense_9_mae: nan - loss: nan - val_dense_10_accuracy: 0.9665 - val_dense_10_loss: 0.0733 - val_dense_9_loss: nan - val_dense_9_mae: nan - val_loss: nan\n",
            "Epoch 13/50\n",
            "\u001b[1m898/898\u001b[0m \u001b[32m━━━━━━━━━━━━━━━━━━━━\u001b[0m\u001b[37m\u001b[0m \u001b[1m1s\u001b[0m 920us/step - dense_10_accuracy: 0.9666 - dense_10_loss: 0.0733 - dense_9_loss: nan - dense_9_mae: nan - loss: nan - val_dense_10_accuracy: 0.9665 - val_dense_10_loss: 0.0733 - val_dense_9_loss: nan - val_dense_9_mae: nan - val_loss: nan\n",
            "Epoch 14/50\n",
            "\u001b[1m898/898\u001b[0m \u001b[32m━━━━━━━━━━━━━━━━━━━━\u001b[0m\u001b[37m\u001b[0m \u001b[1m1s\u001b[0m 996us/step - dense_10_accuracy: 0.9664 - dense_10_loss: 0.0735 - dense_9_loss: nan - dense_9_mae: nan - loss: nan - val_dense_10_accuracy: 0.9665 - val_dense_10_loss: 0.0733 - val_dense_9_loss: nan - val_dense_9_mae: nan - val_loss: nan\n",
            "Epoch 15/50\n",
            "\u001b[1m898/898\u001b[0m \u001b[32m━━━━━━━━━━━━━━━━━━━━\u001b[0m\u001b[37m\u001b[0m \u001b[1m1s\u001b[0m 955us/step - dense_10_accuracy: 0.9669 - dense_10_loss: 0.0727 - dense_9_loss: nan - dense_9_mae: nan - loss: nan - val_dense_10_accuracy: 0.9665 - val_dense_10_loss: 0.0733 - val_dense_9_loss: nan - val_dense_9_mae: nan - val_loss: nan\n",
            "Epoch 16/50\n",
            "\u001b[1m898/898\u001b[0m \u001b[32m━━━━━━━━━━━━━━━━━━━━\u001b[0m\u001b[37m\u001b[0m \u001b[1m1s\u001b[0m 994us/step - dense_10_accuracy: 0.9673 - dense_10_loss: 0.0720 - dense_9_loss: nan - dense_9_mae: nan - loss: nan - val_dense_10_accuracy: 0.9665 - val_dense_10_loss: 0.0733 - val_dense_9_loss: nan - val_dense_9_mae: nan - val_loss: nan\n",
            "Epoch 17/50\n",
            "\u001b[1m898/898\u001b[0m \u001b[32m━━━━━━━━━━━━━━━━━━━━\u001b[0m\u001b[37m\u001b[0m \u001b[1m1s\u001b[0m 920us/step - dense_10_accuracy: 0.9642 - dense_10_loss: 0.0773 - dense_9_loss: nan - dense_9_mae: nan - loss: nan - val_dense_10_accuracy: 0.9665 - val_dense_10_loss: 0.0733 - val_dense_9_loss: nan - val_dense_9_mae: nan - val_loss: nan\n",
            "Epoch 18/50\n",
            "\u001b[1m898/898\u001b[0m \u001b[32m━━━━━━━━━━━━━━━━━━━━\u001b[0m\u001b[37m\u001b[0m \u001b[1m1s\u001b[0m 917us/step - dense_10_accuracy: 0.9651 - dense_10_loss: 0.0758 - dense_9_loss: nan - dense_9_mae: nan - loss: nan - val_dense_10_accuracy: 0.9665 - val_dense_10_loss: 0.0733 - val_dense_9_loss: nan - val_dense_9_mae: nan - val_loss: nan\n",
            "Epoch 19/50\n",
            "\u001b[1m898/898\u001b[0m \u001b[32m━━━━━━━━━━━━━━━━━━━━\u001b[0m\u001b[37m\u001b[0m \u001b[1m1s\u001b[0m 1ms/step - dense_10_accuracy: 0.9661 - dense_10_loss: 0.0741 - dense_9_loss: nan - dense_9_mae: nan - loss: nan - val_dense_10_accuracy: 0.9665 - val_dense_10_loss: 0.0733 - val_dense_9_loss: nan - val_dense_9_mae: nan - val_loss: nan\n",
            "Epoch 20/50\n",
            "\u001b[1m898/898\u001b[0m \u001b[32m━━━━━━━━━━━━━━━━━━━━\u001b[0m\u001b[37m\u001b[0m \u001b[1m1s\u001b[0m 1ms/step - dense_10_accuracy: 0.9646 - dense_10_loss: 0.0765 - dense_9_loss: nan - dense_9_mae: nan - loss: nan - val_dense_10_accuracy: 0.9665 - val_dense_10_loss: 0.0733 - val_dense_9_loss: nan - val_dense_9_mae: nan - val_loss: nan\n",
            "Epoch 21/50\n",
            "\u001b[1m898/898\u001b[0m \u001b[32m━━━━━━━━━━━━━━━━━━━━\u001b[0m\u001b[37m\u001b[0m \u001b[1m1s\u001b[0m 1ms/step - dense_10_accuracy: 0.9645 - dense_10_loss: 0.0767 - dense_9_loss: nan - dense_9_mae: nan - loss: nan - val_dense_10_accuracy: 0.9665 - val_dense_10_loss: 0.0733 - val_dense_9_loss: nan - val_dense_9_mae: nan - val_loss: nan\n",
            "Epoch 22/50\n",
            "\u001b[1m898/898\u001b[0m \u001b[32m━━━━━━━━━━━━━━━━━━━━\u001b[0m\u001b[37m\u001b[0m \u001b[1m1s\u001b[0m 992us/step - dense_10_accuracy: 0.9661 - dense_10_loss: 0.0740 - dense_9_loss: nan - dense_9_mae: nan - loss: nan - val_dense_10_accuracy: 0.9665 - val_dense_10_loss: 0.0733 - val_dense_9_loss: nan - val_dense_9_mae: nan - val_loss: nan\n",
            "Epoch 23/50\n",
            "\u001b[1m898/898\u001b[0m \u001b[32m━━━━━━━━━━━━━━━━━━━━\u001b[0m\u001b[37m\u001b[0m \u001b[1m1s\u001b[0m 1ms/step - dense_10_accuracy: 0.9660 - dense_10_loss: 0.0741 - dense_9_loss: nan - dense_9_mae: nan - loss: nan - val_dense_10_accuracy: 0.9665 - val_dense_10_loss: 0.0733 - val_dense_9_loss: nan - val_dense_9_mae: nan - val_loss: nan\n",
            "Epoch 24/50\n",
            "\u001b[1m898/898\u001b[0m \u001b[32m━━━━━━━━━━━━━━━━━━━━\u001b[0m\u001b[37m\u001b[0m \u001b[1m1s\u001b[0m 946us/step - dense_10_accuracy: 0.9637 - dense_10_loss: 0.0780 - dense_9_loss: nan - dense_9_mae: nan - loss: nan - val_dense_10_accuracy: 0.9665 - val_dense_10_loss: 0.0733 - val_dense_9_loss: nan - val_dense_9_mae: nan - val_loss: nan\n",
            "Epoch 25/50\n",
            "\u001b[1m898/898\u001b[0m \u001b[32m━━━━━━━━━━━━━━━━━━━━\u001b[0m\u001b[37m\u001b[0m \u001b[1m1s\u001b[0m 896us/step - dense_10_accuracy: 0.9655 - dense_10_loss: 0.0750 - dense_9_loss: nan - dense_9_mae: nan - loss: nan - val_dense_10_accuracy: 0.9665 - val_dense_10_loss: 0.0733 - val_dense_9_loss: nan - val_dense_9_mae: nan - val_loss: nan\n",
            "Epoch 26/50\n",
            "\u001b[1m898/898\u001b[0m \u001b[32m━━━━━━━━━━━━━━━━━━━━\u001b[0m\u001b[37m\u001b[0m \u001b[1m1s\u001b[0m 1ms/step - dense_10_accuracy: 0.9666 - dense_10_loss: 0.0731 - dense_9_loss: nan - dense_9_mae: nan - loss: nan - val_dense_10_accuracy: 0.9665 - val_dense_10_loss: 0.0733 - val_dense_9_loss: nan - val_dense_9_mae: nan - val_loss: nan\n",
            "Epoch 27/50\n",
            "\u001b[1m898/898\u001b[0m \u001b[32m━━━━━━━━━━━━━━━━━━━━\u001b[0m\u001b[37m\u001b[0m \u001b[1m1s\u001b[0m 890us/step - dense_10_accuracy: 0.9664 - dense_10_loss: 0.0736 - dense_9_loss: nan - dense_9_mae: nan - loss: nan - val_dense_10_accuracy: 0.9665 - val_dense_10_loss: 0.0733 - val_dense_9_loss: nan - val_dense_9_mae: nan - val_loss: nan\n",
            "Epoch 28/50\n",
            "\u001b[1m898/898\u001b[0m \u001b[32m━━━━━━━━━━━━━━━━━━━━\u001b[0m\u001b[37m\u001b[0m \u001b[1m1s\u001b[0m 979us/step - dense_10_accuracy: 0.9661 - dense_10_loss: 0.0740 - dense_9_loss: nan - dense_9_mae: nan - loss: nan - val_dense_10_accuracy: 0.9665 - val_dense_10_loss: 0.0733 - val_dense_9_loss: nan - val_dense_9_mae: nan - val_loss: nan\n",
            "Epoch 29/50\n",
            "\u001b[1m898/898\u001b[0m \u001b[32m━━━━━━━━━━━━━━━━━━━━\u001b[0m\u001b[37m\u001b[0m \u001b[1m1s\u001b[0m 1ms/step - dense_10_accuracy: 0.9663 - dense_10_loss: 0.0738 - dense_9_loss: nan - dense_9_mae: nan - loss: nan - val_dense_10_accuracy: 0.9665 - val_dense_10_loss: 0.0733 - val_dense_9_loss: nan - val_dense_9_mae: nan - val_loss: nan\n",
            "Epoch 30/50\n",
            "\u001b[1m898/898\u001b[0m \u001b[32m━━━━━━━━━━━━━━━━━━━━\u001b[0m\u001b[37m\u001b[0m \u001b[1m1s\u001b[0m 913us/step - dense_10_accuracy: 0.9654 - dense_10_loss: 0.0752 - dense_9_loss: nan - dense_9_mae: nan - loss: nan - val_dense_10_accuracy: 0.9665 - val_dense_10_loss: 0.0733 - val_dense_9_loss: nan - val_dense_9_mae: nan - val_loss: nan\n",
            "Epoch 31/50\n",
            "\u001b[1m898/898\u001b[0m \u001b[32m━━━━━━━━━━━━━━━━━━━━\u001b[0m\u001b[37m\u001b[0m \u001b[1m1s\u001b[0m 947us/step - dense_10_accuracy: 0.9644 - dense_10_loss: 0.0768 - dense_9_loss: nan - dense_9_mae: nan - loss: nan - val_dense_10_accuracy: 0.9665 - val_dense_10_loss: 0.0733 - val_dense_9_loss: nan - val_dense_9_mae: nan - val_loss: nan\n",
            "Epoch 32/50\n",
            "\u001b[1m898/898\u001b[0m \u001b[32m━━━━━━━━━━━━━━━━━━━━\u001b[0m\u001b[37m\u001b[0m \u001b[1m1s\u001b[0m 973us/step - dense_10_accuracy: 0.9652 - dense_10_loss: 0.0756 - dense_9_loss: nan - dense_9_mae: nan - loss: nan - val_dense_10_accuracy: 0.9665 - val_dense_10_loss: 0.0733 - val_dense_9_loss: nan - val_dense_9_mae: nan - val_loss: nan\n",
            "Epoch 33/50\n",
            "\u001b[1m898/898\u001b[0m \u001b[32m━━━━━━━━━━━━━━━━━━━━\u001b[0m\u001b[37m\u001b[0m \u001b[1m1s\u001b[0m 936us/step - dense_10_accuracy: 0.9652 - dense_10_loss: 0.0755 - dense_9_loss: nan - dense_9_mae: nan - loss: nan - val_dense_10_accuracy: 0.9665 - val_dense_10_loss: 0.0733 - val_dense_9_loss: nan - val_dense_9_mae: nan - val_loss: nan\n",
            "Epoch 34/50\n",
            "\u001b[1m898/898\u001b[0m \u001b[32m━━━━━━━━━━━━━━━━━━━━\u001b[0m\u001b[37m\u001b[0m \u001b[1m1s\u001b[0m 881us/step - dense_10_accuracy: 0.9652 - dense_10_loss: 0.0755 - dense_9_loss: nan - dense_9_mae: nan - loss: nan - val_dense_10_accuracy: 0.9665 - val_dense_10_loss: 0.0733 - val_dense_9_loss: nan - val_dense_9_mae: nan - val_loss: nan\n",
            "Epoch 35/50\n",
            "\u001b[1m898/898\u001b[0m \u001b[32m━━━━━━━━━━━━━━━━━━━━\u001b[0m\u001b[37m\u001b[0m \u001b[1m1s\u001b[0m 954us/step - dense_10_accuracy: 0.9636 - dense_10_loss: 0.0782 - dense_9_loss: nan - dense_9_mae: nan - loss: nan - val_dense_10_accuracy: 0.9665 - val_dense_10_loss: 0.0733 - val_dense_9_loss: nan - val_dense_9_mae: nan - val_loss: nan\n",
            "Epoch 36/50\n",
            "\u001b[1m898/898\u001b[0m \u001b[32m━━━━━━━━━━━━━━━━━━━━\u001b[0m\u001b[37m\u001b[0m \u001b[1m1s\u001b[0m 980us/step - dense_10_accuracy: 0.9678 - dense_10_loss: 0.0712 - dense_9_loss: nan - dense_9_mae: nan - loss: nan - val_dense_10_accuracy: 0.9665 - val_dense_10_loss: 0.0733 - val_dense_9_loss: nan - val_dense_9_mae: nan - val_loss: nan\n",
            "Epoch 37/50\n",
            "\u001b[1m898/898\u001b[0m \u001b[32m━━━━━━━━━━━━━━━━━━━━\u001b[0m\u001b[37m\u001b[0m \u001b[1m1s\u001b[0m 944us/step - dense_10_accuracy: 0.9673 - dense_10_loss: 0.0720 - dense_9_loss: nan - dense_9_mae: nan - loss: nan - val_dense_10_accuracy: 0.9665 - val_dense_10_loss: 0.0733 - val_dense_9_loss: nan - val_dense_9_mae: nan - val_loss: nan\n",
            "Epoch 38/50\n",
            "\u001b[1m898/898\u001b[0m \u001b[32m━━━━━━━━━━━━━━━━━━━━\u001b[0m\u001b[37m\u001b[0m \u001b[1m1s\u001b[0m 947us/step - dense_10_accuracy: 0.9666 - dense_10_loss: 0.0732 - dense_9_loss: nan - dense_9_mae: nan - loss: nan - val_dense_10_accuracy: 0.9665 - val_dense_10_loss: 0.0733 - val_dense_9_loss: nan - val_dense_9_mae: nan - val_loss: nan\n",
            "Epoch 39/50\n",
            "\u001b[1m898/898\u001b[0m \u001b[32m━━━━━━━━━━━━━━━━━━━━\u001b[0m\u001b[37m\u001b[0m \u001b[1m1s\u001b[0m 913us/step - dense_10_accuracy: 0.9654 - dense_10_loss: 0.0752 - dense_9_loss: nan - dense_9_mae: nan - loss: nan - val_dense_10_accuracy: 0.9665 - val_dense_10_loss: 0.0733 - val_dense_9_loss: nan - val_dense_9_mae: nan - val_loss: nan\n",
            "Epoch 40/50\n",
            "\u001b[1m898/898\u001b[0m \u001b[32m━━━━━━━━━━━━━━━━━━━━\u001b[0m\u001b[37m\u001b[0m \u001b[1m1s\u001b[0m 1ms/step - dense_10_accuracy: 0.9664 - dense_10_loss: 0.0734 - dense_9_loss: nan - dense_9_mae: nan - loss: nan - val_dense_10_accuracy: 0.9665 - val_dense_10_loss: 0.0733 - val_dense_9_loss: nan - val_dense_9_mae: nan - val_loss: nan\n",
            "Epoch 41/50\n",
            "\u001b[1m898/898\u001b[0m \u001b[32m━━━━━━━━━━━━━━━━━━━━\u001b[0m\u001b[37m\u001b[0m \u001b[1m1s\u001b[0m 981us/step - dense_10_accuracy: 0.9652 - dense_10_loss: 0.0756 - dense_9_loss: nan - dense_9_mae: nan - loss: nan - val_dense_10_accuracy: 0.9665 - val_dense_10_loss: 0.0733 - val_dense_9_loss: nan - val_dense_9_mae: nan - val_loss: nan\n",
            "Epoch 42/50\n",
            "\u001b[1m898/898\u001b[0m \u001b[32m━━━━━━━━━━━━━━━━━━━━\u001b[0m\u001b[37m\u001b[0m \u001b[1m1s\u001b[0m 836us/step - dense_10_accuracy: 0.9651 - dense_10_loss: 0.0757 - dense_9_loss: nan - dense_9_mae: nan - loss: nan - val_dense_10_accuracy: 0.9665 - val_dense_10_loss: 0.0733 - val_dense_9_loss: nan - val_dense_9_mae: nan - val_loss: nan\n",
            "Epoch 43/50\n",
            "\u001b[1m898/898\u001b[0m \u001b[32m━━━━━━━━━━━━━━━━━━━━\u001b[0m\u001b[37m\u001b[0m \u001b[1m1s\u001b[0m 1ms/step - dense_10_accuracy: 0.9654 - dense_10_loss: 0.0752 - dense_9_loss: nan - dense_9_mae: nan - loss: nan - val_dense_10_accuracy: 0.9665 - val_dense_10_loss: 0.0733 - val_dense_9_loss: nan - val_dense_9_mae: nan - val_loss: nan\n",
            "Epoch 44/50\n",
            "\u001b[1m898/898\u001b[0m \u001b[32m━━━━━━━━━━━━━━━━━━━━\u001b[0m\u001b[37m\u001b[0m \u001b[1m1s\u001b[0m 924us/step - dense_10_accuracy: 0.9666 - dense_10_loss: 0.0733 - dense_9_loss: nan - dense_9_mae: nan - loss: nan - val_dense_10_accuracy: 0.9665 - val_dense_10_loss: 0.0733 - val_dense_9_loss: nan - val_dense_9_mae: nan - val_loss: nan\n",
            "Epoch 45/50\n",
            "\u001b[1m898/898\u001b[0m \u001b[32m━━━━━━━━━━━━━━━━━━━━\u001b[0m\u001b[37m\u001b[0m \u001b[1m1s\u001b[0m 1ms/step - dense_10_accuracy: 0.9661 - dense_10_loss: 0.0741 - dense_9_loss: nan - dense_9_mae: nan - loss: nan - val_dense_10_accuracy: 0.9665 - val_dense_10_loss: 0.0733 - val_dense_9_loss: nan - val_dense_9_mae: nan - val_loss: nan\n",
            "Epoch 46/50\n",
            "\u001b[1m898/898\u001b[0m \u001b[32m━━━━━━━━━━━━━━━━━━━━\u001b[0m\u001b[37m\u001b[0m \u001b[1m1s\u001b[0m 950us/step - dense_10_accuracy: 0.9672 - dense_10_loss: 0.0722 - dense_9_loss: nan - dense_9_mae: nan - loss: nan - val_dense_10_accuracy: 0.9665 - val_dense_10_loss: 0.0733 - val_dense_9_loss: nan - val_dense_9_mae: nan - val_loss: nan\n",
            "Epoch 47/50\n",
            "\u001b[1m898/898\u001b[0m \u001b[32m━━━━━━━━━━━━━━━━━━━━\u001b[0m\u001b[37m\u001b[0m \u001b[1m1s\u001b[0m 957us/step - dense_10_accuracy: 0.9657 - dense_10_loss: 0.0746 - dense_9_loss: nan - dense_9_mae: nan - loss: nan - val_dense_10_accuracy: 0.9665 - val_dense_10_loss: 0.0733 - val_dense_9_loss: nan - val_dense_9_mae: nan - val_loss: nan\n",
            "Epoch 48/50\n",
            "\u001b[1m898/898\u001b[0m \u001b[32m━━━━━━━━━━━━━━━━━━━━\u001b[0m\u001b[37m\u001b[0m \u001b[1m1s\u001b[0m 949us/step - dense_10_accuracy: 0.9668 - dense_10_loss: 0.0729 - dense_9_loss: nan - dense_9_mae: nan - loss: nan - val_dense_10_accuracy: 0.9665 - val_dense_10_loss: 0.0733 - val_dense_9_loss: nan - val_dense_9_mae: nan - val_loss: nan\n",
            "Epoch 49/50\n",
            "\u001b[1m898/898\u001b[0m \u001b[32m━━━━━━━━━━━━━━━━━━━━\u001b[0m\u001b[37m\u001b[0m \u001b[1m1s\u001b[0m 1ms/step - dense_10_accuracy: 0.9649 - dense_10_loss: 0.0760 - dense_9_loss: nan - dense_9_mae: nan - loss: nan - val_dense_10_accuracy: 0.9665 - val_dense_10_loss: 0.0733 - val_dense_9_loss: nan - val_dense_9_mae: nan - val_loss: nan\n",
            "Epoch 50/50\n",
            "\u001b[1m898/898\u001b[0m \u001b[32m━━━━━━━━━━━━━━━━━━━━\u001b[0m\u001b[37m\u001b[0m \u001b[1m1s\u001b[0m 897us/step - dense_10_accuracy: 0.9665 - dense_10_loss: 0.0733 - dense_9_loss: nan - dense_9_mae: nan - loss: nan - val_dense_10_accuracy: 0.9665 - val_dense_10_loss: 0.0733 - val_dense_9_loss: nan - val_dense_9_mae: nan - val_loss: nan\n"
          ]
        }
      ],
      "source": [
        "# Train the autoencoder\n",
        "history = autoencoder.fit(X_train_scaled, [X_train_scaled, y_train],\n",
        "                          epochs=50, batch_size=32,\n",
        "                          validation_data=(X_test_scaled, [X_test_scaled, y_test]))\n"
      ]
    },
    {
      "cell_type": "code",
      "execution_count": null,
      "metadata": {
        "id": "veyEv0qfXppr",
        "outputId": "115d76ca-f920-4fed-b6ca-061f2c639aaf"
      },
      "outputs": [
        {
          "name": "stdout",
          "output_type": "stream",
          "text": [
            "\u001b[1m385/385\u001b[0m \u001b[32m━━━━━━━━━━━━━━━━━━━━\u001b[0m\u001b[37m\u001b[0m \u001b[1m0s\u001b[0m 476us/step\n"
          ]
        }
      ],
      "source": [
        "# Make predictions\n",
        "_, y_pred_prob = autoencoder.predict(X_test_scaled)\n",
        "\n",
        "# Convert probabilities to class labels (threshold 0.5 for binary classification)\n",
        "y_pred = (y_pred_prob > 0.5).astype(int)"
      ]
    },
    {
      "cell_type": "code",
      "execution_count": null,
      "metadata": {
        "id": "drXHDy_DXppr",
        "outputId": "4908513a-5065-40aa-d52f-e1cf41e565fd"
      },
      "outputs": [
        {
          "name": "stdout",
          "output_type": "stream",
          "text": [
            "Accuracy: 0.9665176757415684\n",
            "F1 Score: 0.0\n"
          ]
        }
      ],
      "source": [
        "\n",
        "# Evaluate model performance\n",
        "accuracy = accuracy_score(y_test, y_pred)\n",
        "print(f\"Accuracy: {accuracy}\")\n",
        "\n",
        "f1 = f1_score(y_test, y_pred)\n",
        "print(f\"F1 Score: {f1}\")"
      ]
    },
    {
      "cell_type": "code",
      "execution_count": null,
      "metadata": {
        "id": "_UQfrJziXppr"
      },
      "outputs": [],
      "source": [
        "# Confusion Matrix\n",
        "conf_matrix = confusion_matrix(y_test, y_pred)"
      ]
    },
    {
      "cell_type": "code",
      "execution_count": null,
      "metadata": {
        "id": "oyoE9K1SXppr",
        "outputId": "711c7634-f59d-4067-933d-e119cd2f3f61"
      },
      "outputs": [
        {
          "data": {
            "image/png": "[encoded data removed]",
            "text/plain": [
              "<Figure size 600x400 with 2 Axes>"
            ]
          },
          "metadata": {},
          "output_type": "display_data"
        }
      ],
      "source": [
        "# Plot confusion matrix using Seaborn\n",
        "plt.figure(figsize=(6, 4))\n",
        "sns.heatmap(conf_matrix, annot=True, fmt='d', cmap='Blues',\n",
        "            xticklabels=['Class 0', 'Class 1'],\n",
        "            yticklabels=['Class 0', 'Class 1'])\n",
        "plt.ylabel('True Label')\n",
        "plt.xlabel('Predicted Label')\n",
        "plt.title('Confusion Matrix')\n",
        "plt.show()"
      ]
    },
    {
      "cell_type": "code",
      "execution_count": null,
      "metadata": {
        "id": "wRH73McwXppr"
      },
      "outputs": [],
      "source": []
    },
    {
      "cell_type": "code",
      "execution_count": null,
      "metadata": {
        "id": "ZMwcrleYXppr"
      },
      "outputs": [],
      "source": []
    },
    {
      "cell_type": "code",
      "execution_count": null,
      "metadata": {
        "id": "4UXeYGs6Xppr"
      },
      "outputs": [],
      "source": []
    },
    {
      "cell_type": "code",
      "execution_count": null,
      "metadata": {
        "id": "JSfIDL8qXppr"
      },
      "outputs": [],
      "source": []
    }
  ],
  "metadata": {
    "kernelspec": {
      "display_name": "dmenv",
      "language": "python",
      "name": "python3"
    },
    "language_info": {
      "codemirror_mode": {
        "name": "ipython",
        "version": 3
      },
      "file_extension": ".py",
      "mimetype": "text/x-python",
      "name": "python",
      "nbconvert_exporter": "python",
      "pygments_lexer": "ipython3",
      "version": "3.10.12"
    },
    "colab": {
      "provenance": [],
      "include_colab_link": true
    }
  },
  "nbformat": 4,
  "nbformat_minor": 0
}